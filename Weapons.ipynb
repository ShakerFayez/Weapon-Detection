{
  "nbformat": 4,
  "nbformat_minor": 0,
  "metadata": {
    "colab": {
      "provenance": [],
      "mount_file_id": "1L06n6PDU4Rr3DUvaVOZ22XnPhGhxPTZa",
      "authorship_tag": "ABX9TyPTkQ3hMB5UJo6NzxfVVhUE",
      "include_colab_link": true
    },
    "kernelspec": {
      "name": "python3",
      "display_name": "Python 3"
    },
    "language_info": {
      "name": "python"
    },
    "accelerator": "TPU"
  },
  "cells": [
    {
      "cell_type": "markdown",
      "metadata": {
        "id": "view-in-github",
        "colab_type": "text"
      },
      "source": [
        "<a href=\"https://colab.research.google.com/github/ShakerFayez/Weapon-Detection/blob/main/Weapons.ipynb\" target=\"_parent\"><img src=\"https://colab.research.google.com/assets/colab-badge.svg\" alt=\"Open In Colab\"/></a>"
      ]
    },
    {
      "cell_type": "code",
      "execution_count": null,
      "metadata": {
        "id": "PRYyJtZTpRpo"
      },
      "outputs": [],
      "source": [
        "import tarfile\n",
        "import os\n",
        "\n",
        "root_dir = '/content/drive/MyDrive/project_data'\n",
        "gun_dir = '/content/drive/MyDrive/project_data/gun'\n",
        "\n",
        "\n",
        "# Check if the directory exists\n",
        "if not os.path.exists(root_dir):\n",
        "    # If not, create the directory\n",
        "    os.makedirs(root_dir)\n",
        "\n",
        "if not os.path.exists(gun_dir):\n",
        "    # If not, create the directory\n",
        "    os.makedirs(gun_dir)\n",
        "\n"
      ]
    },
    {
      "cell_type": "code",
      "source": [
        "# locating files to be extracted\n",
        "test = '/content/drive/MyDrive/Gun-Dataset/detector/gun/Test.tar'\n",
        "\n",
        "# extracting files into specified directories\n",
        "with tarfile.open(test) as tar:\n",
        "    tar.extractall(path=gun_dir)"
      ],
      "metadata": {
        "id": "l4fxDeIid47v"
      },
      "execution_count": null,
      "outputs": []
    },
    {
      "cell_type": "code",
      "source": [
        "# locating files to be extracted\n",
        "train = '/content/drive/MyDrive/Gun-Dataset/detector/gun/Train.tar'\n",
        "\n",
        "# extracting files into specified directories\n",
        "with tarfile.open(train) as tar1:\n",
        "    tar1.extractall(path=gun_dir)\n"
      ],
      "metadata": {
        "id": "aSuLH7Nod40q"
      },
      "execution_count": null,
      "outputs": []
    },
    {
      "cell_type": "code",
      "source": [
        "# locating files to be extracted\n",
        "other = '/content/drive/MyDrive/Gun-Dataset/detector/other/Two/Error2.tar'\n",
        "\n",
        "# extracting files into specified directories\n",
        "with tarfile.open(other) as tar2:\n",
        "    tar2.extractall(path=root_dir)"
      ],
      "metadata": {
        "id": "xViNz7GlFF2p"
      },
      "execution_count": null,
      "outputs": []
    },
    {
      "cell_type": "code",
      "source": [
        "train_dir = '/content/drive/MyDrive/project_data/gun/Train'\n",
        "test_dir = '/content/drive/MyDrive/project_data/gun/Test'\n"
      ],
      "metadata": {
        "id": "v508uvp76Z8S"
      },
      "execution_count": null,
      "outputs": []
    },
    {
      "cell_type": "code",
      "source": [],
      "metadata": {
        "id": "cS_FuqAq6eYG"
      },
      "execution_count": null,
      "outputs": []
    }
  ]
}